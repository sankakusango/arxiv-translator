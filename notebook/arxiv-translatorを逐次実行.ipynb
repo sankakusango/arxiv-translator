{
 "cells": [
  {
   "cell_type": "code",
   "execution_count": 1,
   "metadata": {},
   "outputs": [],
   "source": [
    "import sys\n",
    "sys.path.append(\"/repos/arxiv-translator/src/*\")\n",
    "\n",
    "from src.file_utils import unfreeze_targz, copy_item, copy_pdf_file\n",
    "from src.openai_chat import OpenAIChat\n",
    "from src.tex_compiler import find_main_tex, compile_tex\n",
    "from src.tex_translator_utils import split_tex_to_chunks, insert_after_documentclass, extract_quoted_text"
   ]
  },
  {
   "cell_type": "code",
   "execution_count": 2,
   "metadata": {},
   "outputs": [],
   "source": [
    "import yaml\n",
    "from tqdm import tqdm\n",
    "import concurrent.futures"
   ]
  },
  {
   "cell_type": "code",
   "execution_count": 3,
   "metadata": {},
   "outputs": [],
   "source": [
    "ARXIV_NAME = \"arXiv-####.#####v#\""
   ]
  },
  {
   "cell_type": "markdown",
   "metadata": {},
   "source": [
    "### 1. tarの解凍"
   ]
  },
  {
   "cell_type": "code",
   "execution_count": 4,
   "metadata": {},
   "outputs": [],
   "source": [
    "unfreeze_targz(targz_path=f\"/data/0_tar_gz_data/{ARXIV_NAME}.tar.gz\", output_dir=\"/data/1_raw_data/\")"
   ]
  },
  {
   "cell_type": "markdown",
   "metadata": {},
   "source": [
    "### 2. 作業"
   ]
  },
  {
   "cell_type": "markdown",
   "metadata": {},
   "source": [
    "##### 作業場所へのコピー"
   ]
  },
  {
   "cell_type": "code",
   "execution_count": 5,
   "metadata": {},
   "outputs": [],
   "source": [
    "copy_item(src=f\"/data/1_raw_data/{ARXIV_NAME}\", dst=f\"/data/2_working_data/{ARXIV_NAME}\", overwrite=True)"
   ]
  },
  {
   "cell_type": "markdown",
   "metadata": {},
   "source": [
    "#### 書き換え処理"
   ]
  },
  {
   "cell_type": "code",
   "execution_count": 6,
   "metadata": {},
   "outputs": [],
   "source": [
    "with open(\"/config/configs.yml\", \"r\", encoding=\"utf-8\") as file:\n",
    "    data = yaml.safe_load(file)\n",
    "\n",
    "inserting_pre_text = data['tex']['pre_text'].replace(\"\\\\\", \"\\\\\\\\\")\n",
    "template = data[\"prompt\"][\"translate\"][\"en_to_ja\"]\n",
    "\n",
    "with open(\"/config/api_keys.yml\", \"r\", encoding=\"utf-8\") as file:\n",
    "    data = yaml.safe_load(file)\n",
    "\n",
    "api_key = data[\"OPENAI_API_KEY\"]\n"
   ]
  },
  {
   "cell_type": "code",
   "execution_count": 8,
   "metadata": {},
   "outputs": [],
   "source": [
    "openai_chat = OpenAIChat(api_key=api_key, model=\"gpt-4o\", template=template)"
   ]
  },
  {
   "cell_type": "markdown",
   "metadata": {},
   "source": [
    "#### テキスト分割"
   ]
  },
  {
   "cell_type": "code",
   "execution_count": 9,
   "metadata": {},
   "outputs": [],
   "source": [
    "main_tex_path=find_main_tex(source_dir=f\"/data/2_working_data/{ARXIV_NAME}\")\n",
    "with open(main_tex_path, 'r', encoding='utf-8') as file:\n",
    "    tex_contents = file.read()\n",
    "\n",
    "tex_contents = insert_after_documentclass(contents=tex_contents, inserting_pre_text=inserting_pre_text)\n",
    "tex_chunks = split_tex_to_chunks(contents=tex_contents, chunk_size=5600, token_counter=openai_chat.count_tokens)"
   ]
  },
  {
   "cell_type": "markdown",
   "metadata": {},
   "source": [
    "#### 翻訳"
   ]
  },
  {
   "cell_type": "code",
   "execution_count": 17,
   "metadata": {},
   "outputs": [],
   "source": [
    "translated_chunks=[]\n",
    "def process_chunk(chunk):\n",
    "    # openai_chat(chunk)の戻り値をextract_quoted_textするだけ\n",
    "    translated_chunk = openai_chat(chunk)\n",
    "    return extract_quoted_text(translated_chunk)\n",
    "\n",
    "translated_chunks = []\n",
    "with concurrent.futures.ThreadPoolExecutor() as executor:\n",
    "    # executor.mapで並列実行しながら、順番通りに結果を取得\n",
    "    for result in tqdm(executor.map(process_chunk, tex_chunks), total=len(tex_chunks)):\n",
    "        translated_chunks.append(result)\n",
    "translated_tex_contents = \"\".join(translated_chunks)\n",
    "\n",
    "with open(main_tex_path, \"w\", encoding=\"utf-8\") as file:\n",
    "    file.write(translated_tex_contents)"
   ]
  },
  {
   "cell_type": "markdown",
   "metadata": {},
   "source": [
    "#### コンパイル"
   ]
  },
  {
   "cell_type": "code",
   "execution_count": 11,
   "metadata": {},
   "outputs": [],
   "source": [
    "compile_tex(source_file_path=main_tex_path)"
   ]
  },
  {
   "cell_type": "markdown",
   "metadata": {},
   "source": [
    "### 3. 結果"
   ]
  },
  {
   "cell_type": "code",
   "execution_count": 28,
   "metadata": {},
   "outputs": [],
   "source": [
    "copy_pdf_file(f\"/data/2_working_data/{ARXIV_NAME}\", f\"/data/3_output_data/{ARXIV_NAME}.pdf\")"
   ]
  }
 ],
 "metadata": {
  "kernelspec": {
   "display_name": "Python 3 (ipykernel)",
   "language": "python",
   "name": "python3"
  }
 },
 "nbformat": 4,
 "nbformat_minor": 2
}
