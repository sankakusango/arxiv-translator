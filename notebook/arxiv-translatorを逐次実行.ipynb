{
 "cells": [
  {
   "cell_type": "code",
   "execution_count": null,
   "metadata": {},
   "outputs": [],
   "source": [
    "ARXIV_ID = \"2412.09737v1\""
   ]
  },
  {
   "cell_type": "code",
   "execution_count": 8,
   "metadata": {},
   "outputs": [],
   "source": [
    "import sys\n",
    "sys.path.append(\"/repos/arxiv-translator/src/arxiv_translator/*\")\n",
    "sys.dont_write_bytecode = True\n",
    "\n",
    "from arxiv_translator.file_utils import download_arxiv_source, unfreeze_targz, copy_item, copy_pdf_file\n",
    "from arxiv_translator.openai_chat import OpenAIChat\n",
    "from arxiv_translator.tex_compiler import find_tex_files, find_main_tex, compile_tex\n",
    "from arxiv_translator.tex_translator_utils import split_tex_to_chunks, insert_after_documentclass, extract_quoted_text\n",
    "\n",
    "import yaml\n",
    "from tqdm import tqdm\n",
    "import concurrent.futures"
   ]
  },
  {
   "cell_type": "markdown",
   "metadata": {},
   "source": [
    "### 0. ダウンロード"
   ]
  },
  {
   "cell_type": "code",
   "execution_count": null,
   "metadata": {},
   "outputs": [],
   "source": [
    "download_arxiv_source(arxiv_id=ARXIV_ID, output_dir=\"/data/0_tar_gz_data/\")"
   ]
  },
  {
   "cell_type": "markdown",
   "metadata": {},
   "source": [
    "### 1. tarの解凍"
   ]
  },
  {
   "cell_type": "code",
   "execution_count": null,
   "metadata": {},
   "outputs": [],
   "source": [
    "unfreeze_targz(targz_path=f\"/data/0_tar_gz_data/arxiv-{ARXIV_ID}.tar.gz\", output_dir=\"/data/1_raw_data/\")"
   ]
  },
  {
   "cell_type": "markdown",
   "metadata": {},
   "source": [
    "### 2. 作業"
   ]
  },
  {
   "cell_type": "markdown",
   "metadata": {},
   "source": [
    "##### 作業場所へのコピー"
   ]
  },
  {
   "cell_type": "code",
   "execution_count": null,
   "metadata": {},
   "outputs": [],
   "source": [
    "copy_item(src=f\"/data/1_raw_data/arxiv-{ARXIV_ID}\", dst=f\"/data/2_working_data/arxiv-{ARXIV_ID}\", overwrite=True)"
   ]
  },
  {
   "cell_type": "markdown",
   "metadata": {},
   "source": [
    "#### 書き換え処理"
   ]
  },
  {
   "cell_type": "markdown",
   "metadata": {},
   "source": [
    "#### 準備"
   ]
  },
  {
   "cell_type": "code",
   "execution_count": null,
   "metadata": {},
   "outputs": [],
   "source": [
    "with open(\"/config/configs.yml\", \"r\", encoding=\"utf-8\") as file:\n",
    "    data = yaml.safe_load(file)\n",
    "\n",
    "inserting_pre_text = data['tex']['pre_text'].replace(\"\\\\\", \"\\\\\\\\\")\n",
    "template = data[\"prompt\"][\"translate\"][\"en_to_ja\"]\n",
    "\n",
    "with open(\"/config/api_keys.yml\", \"r\", encoding=\"utf-8\") as file:\n",
    "    data = yaml.safe_load(file)\n",
    "\n",
    "api_key = data[\"OPENAI_API_KEY\"]"
   ]
  },
  {
   "cell_type": "code",
   "execution_count": null,
   "metadata": {},
   "outputs": [],
   "source": [
    "translator = OpenAIChat(api_key=api_key, model=\"gpt-4o\", template=template)"
   ]
  },
  {
   "cell_type": "markdown",
   "metadata": {},
   "source": [
    "#### 日本語化パッケージの追加"
   ]
  },
  {
   "cell_type": "code",
   "execution_count": null,
   "metadata": {},
   "outputs": [],
   "source": [
    "main_tex_path=find_main_tex(source_dir=f\"/data/2_working_data/arxiv-{ARXIV_ID}\")\n",
    "\n",
    "with open(main_tex_path, 'r', encoding='utf-8') as file:\n",
    "    print(main_tex_path)\n",
    "    main_tex_contents = file.read()\n",
    "    main_tex_contents = insert_after_documentclass(contents=main_tex_contents, inserting_pre_text=inserting_pre_text)\n",
    "    \n",
    "with open(main_tex_path, 'w', encoding='utf-8') as file:\n",
    "    file.write(main_tex_contents)"
   ]
  },
  {
   "cell_type": "markdown",
   "metadata": {},
   "source": [
    "#### テキスト分割"
   ]
  },
  {
   "cell_type": "code",
   "execution_count": null,
   "metadata": {},
   "outputs": [],
   "source": [
    "file_paths = find_tex_files(source_dir=f\"/data/2_working_data/arxiv-{ARXIV_ID}\")\n",
    "\n",
    "for file_path in file_paths:\n",
    "    with open(file_path, 'r', encoding='utf-8') as file:\n",
    "        tex_contents = file.read()\n",
    "    # テキスト分割\n",
    "    tex_chunks = split_tex_to_chunks(contents=tex_contents, token_counter=translator.count_tokens)\n",
    "    # 翻訳\n",
    "    translated_chunks=[]\n",
    "    for tex_chunk in tqdm(tex_chunks):\n",
    "        translated_chunk = translator(tex_chunk)\n",
    "        translated_chunk = extract_quoted_text(translated_chunk)\n",
    "        translated_chunks.append(translated_chunk)\n",
    "    translated_tex_contents = \"\".join(translated_chunks)\n",
    "    with open(file_path, 'w', encoding='utf-8') as file:\n",
    "        file.write(translated_tex_contents)"
   ]
  },
  {
   "cell_type": "code",
   "execution_count": 6,
   "metadata": {},
   "outputs": [
    {
     "name": "stdout",
     "output_type": "stream",
     "text": [
      "/data\n"
     ]
    }
   ],
   "source": [
    "from pathlib import Path\n",
    "output_path = \"/data/\"\n",
    "print(Path(output_path))"
   ]
  },
  {
   "cell_type": "markdown",
   "metadata": {},
   "source": [
    "#### コンパイル"
   ]
  },
  {
   "cell_type": "code",
   "execution_count": null,
   "metadata": {},
   "outputs": [],
   "source": [
    "compile_tex(source_file_path=main_tex_path)"
   ]
  },
  {
   "cell_type": "code",
   "execution_count": 11,
   "metadata": {},
   "outputs": [
    {
     "ename": "CalledProcessError",
     "evalue": "Command '['latexmk', '-lualatex', '-interaction=nonstopmode', '/data/2_working_data/arxiv-2412.09871/paper.tex']' returned non-zero exit status 12.",
     "output_type": "error",
     "traceback": [
      "\u001b[0;31m---------------------------------------------------------------------------\u001b[0m",
      "\u001b[0;31mCalledProcessError\u001b[0m                        Traceback (most recent call last)",
      "Cell \u001b[0;32mIn[11], line 3\u001b[0m\n\u001b[1;32m      1\u001b[0m ARXIV_ID \u001b[38;5;241m=\u001b[39m \u001b[38;5;124m\"\u001b[39m\u001b[38;5;124m2412.09871\u001b[39m\u001b[38;5;124m\"\u001b[39m\n\u001b[1;32m      2\u001b[0m main_tex_path\u001b[38;5;241m=\u001b[39mfind_main_tex(source_dir\u001b[38;5;241m=\u001b[39m\u001b[38;5;124mf\u001b[39m\u001b[38;5;124m\"\u001b[39m\u001b[38;5;124m/data/2_working_data/arxiv-\u001b[39m\u001b[38;5;132;01m{\u001b[39;00mARXIV_ID\u001b[38;5;132;01m}\u001b[39;00m\u001b[38;5;124m\"\u001b[39m)\n\u001b[0;32m----> 3\u001b[0m \u001b[43mcompile_tex\u001b[49m\u001b[43m(\u001b[49m\u001b[43msource_file_path\u001b[49m\u001b[38;5;241;43m=\u001b[39;49m\u001b[43mmain_tex_path\u001b[49m\u001b[43m)\u001b[49m\n\u001b[1;32m      4\u001b[0m copy_pdf_file(\u001b[38;5;124mf\u001b[39m\u001b[38;5;124m\"\u001b[39m\u001b[38;5;124m/data/2_working_data/arxiv-\u001b[39m\u001b[38;5;132;01m{\u001b[39;00mARXIV_ID\u001b[38;5;132;01m}\u001b[39;00m\u001b[38;5;124m\"\u001b[39m, \u001b[38;5;124mf\u001b[39m\u001b[38;5;124m\"\u001b[39m\u001b[38;5;124m/data/3_output_data/\u001b[39m\u001b[38;5;132;01m{\u001b[39;00mARXIV_ID\u001b[38;5;132;01m}\u001b[39;00m\u001b[38;5;124m_ja.pdf\u001b[39m\u001b[38;5;124m\"\u001b[39m)\n",
      "File \u001b[0;32m/arxiv-translator/src/arxiv_translator/tex_compiler.py:61\u001b[0m, in \u001b[0;36mcompile_tex\u001b[0;34m(source_file_path, working_dir)\u001b[0m\n\u001b[1;32m     59\u001b[0m     working_dir \u001b[38;5;241m=\u001b[39m Path(source_file_path)\u001b[38;5;241m.\u001b[39mparent\n\u001b[1;32m     60\u001b[0m command \u001b[38;5;241m=\u001b[39m [\u001b[38;5;124m\"\u001b[39m\u001b[38;5;124mlatexmk\u001b[39m\u001b[38;5;124m\"\u001b[39m, \u001b[38;5;124m\"\u001b[39m\u001b[38;5;124m-lualatex\u001b[39m\u001b[38;5;124m\"\u001b[39m, \u001b[38;5;124m\"\u001b[39m\u001b[38;5;124m-interaction=nonstopmode\u001b[39m\u001b[38;5;124m\"\u001b[39m, source_file_path]\n\u001b[0;32m---> 61\u001b[0m \u001b[43msubprocess\u001b[49m\u001b[38;5;241;43m.\u001b[39;49m\u001b[43mrun\u001b[49m\u001b[43m(\u001b[49m\u001b[43mcommand\u001b[49m\u001b[43m,\u001b[49m\u001b[43m \u001b[49m\u001b[43mcwd\u001b[49m\u001b[38;5;241;43m=\u001b[39;49m\u001b[43mworking_dir\u001b[49m\u001b[43m,\u001b[49m\u001b[43m \u001b[49m\u001b[43mcheck\u001b[49m\u001b[38;5;241;43m=\u001b[39;49m\u001b[38;5;28;43;01mTrue\u001b[39;49;00m\u001b[43m,\u001b[49m\u001b[43m \u001b[49m\u001b[43mtext\u001b[49m\u001b[38;5;241;43m=\u001b[39;49m\u001b[38;5;28;43;01mTrue\u001b[39;49;00m\u001b[43m,\u001b[49m\u001b[43m \u001b[49m\u001b[43mcapture_output\u001b[49m\u001b[38;5;241;43m=\u001b[39;49m\u001b[38;5;28;43;01mTrue\u001b[39;49;00m\u001b[43m)\u001b[49m\n",
      "File \u001b[0;32m/usr/local/lib/python3.12/subprocess.py:571\u001b[0m, in \u001b[0;36mrun\u001b[0;34m(input, capture_output, timeout, check, *popenargs, **kwargs)\u001b[0m\n\u001b[1;32m    569\u001b[0m     retcode \u001b[38;5;241m=\u001b[39m process\u001b[38;5;241m.\u001b[39mpoll()\n\u001b[1;32m    570\u001b[0m     \u001b[38;5;28;01mif\u001b[39;00m check \u001b[38;5;129;01mand\u001b[39;00m retcode:\n\u001b[0;32m--> 571\u001b[0m         \u001b[38;5;28;01mraise\u001b[39;00m CalledProcessError(retcode, process\u001b[38;5;241m.\u001b[39margs,\n\u001b[1;32m    572\u001b[0m                                  output\u001b[38;5;241m=\u001b[39mstdout, stderr\u001b[38;5;241m=\u001b[39mstderr)\n\u001b[1;32m    573\u001b[0m \u001b[38;5;28;01mreturn\u001b[39;00m CompletedProcess(process\u001b[38;5;241m.\u001b[39margs, retcode, stdout, stderr)\n",
      "\u001b[0;31mCalledProcessError\u001b[0m: Command '['latexmk', '-lualatex', '-interaction=nonstopmode', '/data/2_working_data/arxiv-2412.09871/paper.tex']' returned non-zero exit status 12."
     ]
    }
   ],
   "source": [
    "ARXIV_ID = \"2412.09871\"\n",
    "main_tex_path=find_main_tex(source_dir=f\"/data/2_working_data/arxiv-{ARXIV_ID}\")\n",
    "compile_tex(source_file_path=main_tex_path)\n",
    "copy_pdf_file(f\"/data/2_working_data/arxiv-{ARXIV_ID}\", f\"/data/3_output_data/{ARXIV_ID}_ja.pdf\")"
   ]
  },
  {
   "cell_type": "markdown",
   "metadata": {},
   "source": [
    "### 3. 結果"
   ]
  },
  {
   "cell_type": "code",
   "execution_count": null,
   "metadata": {},
   "outputs": [],
   "source": [
    "copy_pdf_file(f\"/data/2_working_data/arxiv-{ARXIV_ID}\", f\"/data/3_output_data/{ARXIV_ID}_ja.pdf\")"
   ]
  }
 ],
 "metadata": {
  "kernelspec": {
   "display_name": "Python 3 (ipykernel)",
   "language": "python",
   "name": "python3"
  },
  "language_info": {
   "codemirror_mode": {
    "name": "ipython",
    "version": 3
   },
   "file_extension": ".py",
   "mimetype": "text/x-python",
   "name": "python",
   "nbconvert_exporter": "python",
   "pygments_lexer": "ipython3",
   "version": "3.12.8"
  }
 },
 "nbformat": 4,
 "nbformat_minor": 2
}
