{
 "cells": [
  {
   "cell_type": "code",
   "execution_count": null,
   "metadata": {},
   "outputs": [],
   "source": [
    "ARXIV_ID = \"2310.10083v2\"\n",
    "\n",
    "OPENAI_API_KEY = \"sk-###\"\n",
    "WORKING_DIR = \"/arxiv-translator/data/tmp\"\n",
    "TEMPLATE_DIR = \"/arxiv-translator/templates\""
   ]
  },
  {
   "cell_type": "code",
   "execution_count": 4,
   "metadata": {},
   "outputs": [],
   "source": [
    "import sys\n",
    "sys.dont_write_bytecode = True\n",
    "\n",
    "from jinja2 import Environment, FileSystemLoader\n",
    "import logging\n",
    "from pathlib import Path\n",
    "from tqdm import tqdm\n",
    "\n",
    "from arxiv_translator.file_utils import download_arxiv_source, unfreeze_targz, copy_item, find_files_by_ext, find_main_tex\n",
    "from arxiv_translator import OpenAIChat, compile_tex\n",
    "from arxiv_translator.tex_translator_utils import split_tex_to_chunks, insert_text_after_documentclass, remove_comments, reduce_newlines, is_only_commands, parse_code_blocks"
   ]
  },
  {
   "cell_type": "code",
   "execution_count": null,
   "metadata": {},
   "outputs": [],
   "source": [
    "def setup_logger():\n",
    "    logger = logging.getLogger()  # ルートロガーを取得\n",
    "    logger.setLevel(logging.INFO)\n",
    "\n",
    "    ch = logging.StreamHandler()\n",
    "    ch.setLevel(logging.INFO)\n",
    "\n",
    "    formatter = logging.Formatter(\"%(asctime)s [%(levelname)s] %(name)s: %(message)s\")\n",
    "    ch.setFormatter(formatter)\n",
    "\n",
    "    logger.addHandler(ch)\n",
    "    return logger\n",
    "logger = setup_logger()"
   ]
  },
  {
   "cell_type": "markdown",
   "metadata": {},
   "source": [
    "## 前処理"
   ]
  },
  {
   "cell_type": "markdown",
   "metadata": {},
   "source": [
    "### ダウンロード"
   ]
  },
  {
   "cell_type": "code",
   "execution_count": 5,
   "metadata": {},
   "outputs": [
    {
     "name": "stderr",
     "output_type": "stream",
     "text": [
      "2025-02-23 04:39:48,514 [INFO] arxiv_translator.file_utils: ダウンロード成功, from 2310.10083v2 to: /arxiv-translator/data/tmp/arxiv-2310.10083v2.tar.gz\n"
     ]
    }
   ],
   "source": [
    "targz_path = download_arxiv_source(arxiv_id=ARXIV_ID, output_dir=WORKING_DIR)"
   ]
  },
  {
   "cell_type": "markdown",
   "metadata": {},
   "source": [
    "### tarの解凍"
   ]
  },
  {
   "cell_type": "code",
   "execution_count": 6,
   "metadata": {},
   "outputs": [
    {
     "name": "stderr",
     "output_type": "stream",
     "text": [
      "2025-02-23 04:39:48,646 [INFO] arxiv_translator.file_utils: 解凍成功, from /arxiv-translator/data/tmp/arxiv-2310.10083v2.tar.gz to: /arxiv-translator/data/tmp/arxiv-2310.10083v2\n"
     ]
    }
   ],
   "source": [
    "raw_data_path = unfreeze_targz(targz_path, output_dir=WORKING_DIR)"
   ]
  },
  {
   "cell_type": "markdown",
   "metadata": {},
   "source": [
    "##### 作業場所へのコピー"
   ]
  },
  {
   "cell_type": "code",
   "execution_count": 22,
   "metadata": {},
   "outputs": [
    {
     "name": "stderr",
     "output_type": "stream",
     "text": [
      "2025-02-23 04:39:48,793 [INFO] arxiv_translator.file_utils: 成功, ディレクトリコピー from /arxiv-translator/data/tmp/arxiv-2310.10083v2 to: /arxiv-translator/data/tmp/arxiv-2310.10083v2-translated\n"
     ]
    }
   ],
   "source": [
    "tex_dir = raw_data_path.parent/(raw_data_path.name+\"-translated\")\n",
    "copy_item(src=raw_data_path, \n",
    "          dst=tex_dir, \n",
    "          overwrite=True)"
   ]
  },
  {
   "cell_type": "markdown",
   "metadata": {},
   "source": [
    "## 本処理"
   ]
  },
  {
   "cell_type": "markdown",
   "metadata": {},
   "source": [
    "### 翻訳用のLLM"
   ]
  },
  {
   "cell_type": "code",
   "execution_count": null,
   "metadata": {},
   "outputs": [],
   "source": [
    "jinja_env = Environment(loader=FileSystemLoader(TEMPLATE_DIR))\n",
    "translator = OpenAIChat(api_key=OPENAI_API_KEY, \n",
    "                        model=\"gpt-4o\", \n",
    "                        template=jinja_env.get_template('prompt_en_to_ja.j2'))"
   ]
  },
  {
   "cell_type": "markdown",
   "metadata": {},
   "source": [
    "#### 日本語化パッケージの追加"
   ]
  },
  {
   "cell_type": "code",
   "execution_count": 7,
   "metadata": {},
   "outputs": [
    {
     "data": {
      "text/plain": [
       "46341"
      ]
     },
     "execution_count": 8,
     "metadata": {},
     "output_type": "execute_result"
    }
   ],
   "source": [
    "main_tex_path = find_main_tex(tex_dir)\n",
    "main_tex_contents = main_tex_path.read_text('utf-8')\n",
    "main_tex_contents = insert_text_after_documentclass(content=main_tex_contents,\n",
    "                                                    template=jinja_env.get_template('tex_style_ja.j2')\n",
    "                                                    )\n",
    "main_tex_path.write_text(main_tex_contents, encoding='utf-8')"
   ]
  },
  {
   "cell_type": "markdown",
   "metadata": {},
   "source": [
    "#### テキスト分割"
   ]
  },
  {
   "cell_type": "code",
   "execution_count": 30,
   "metadata": {},
   "outputs": [
    {
     "name": "stderr",
     "output_type": "stream",
     "text": [
      "2025-02-23 04:39:49,353 [INFO] root: /arxiv-translator/data/tmp/arxiv-2310.10083v2-translated/arxiv.tex\n",
      "2025-02-23 04:39:49,357 [INFO] arxiv_translator.tex_translator_utils: \\begin{document}が含まれていたので、この箇所でもチャンクを区切ります。\n",
      "  0%|          | 0/9 [00:00<?, ?it/s]2025-02-23 04:40:01,895 [INFO] httpx: HTTP Request: POST https://api.openai.com/v1/chat/completions \"HTTP/1.1 200 OK\"\n",
      " 22%|██▏       | 2/9 [00:11<00:41,  5.89s/it]2025-02-23 04:40:33,234 [INFO] httpx: HTTP Request: POST https://api.openai.com/v1/chat/completions \"HTTP/1.1 200 OK\"\n",
      " 33%|███▎      | 3/9 [00:43<01:38, 16.49s/it]2025-02-23 04:40:50,489 [INFO] httpx: HTTP Request: POST https://api.openai.com/v1/chat/completions \"HTTP/1.1 200 OK\"\n",
      " 44%|████▍     | 4/9 [01:00<01:23, 16.77s/it]2025-02-23 04:41:15,975 [INFO] httpx: HTTP Request: POST https://api.openai.com/v1/chat/completions \"HTTP/1.1 200 OK\"\n",
      " 56%|█████▌    | 5/9 [01:25<01:19, 19.80s/it]2025-02-23 04:41:41,079 [INFO] httpx: HTTP Request: POST https://api.openai.com/v1/chat/completions \"HTTP/1.1 200 OK\"\n",
      " 67%|██████▋   | 6/9 [01:50<01:04, 21.56s/it]2025-02-23 04:42:04,955 [INFO] httpx: HTTP Request: POST https://api.openai.com/v1/chat/completions \"HTTP/1.1 200 OK\"\n",
      " 78%|███████▊  | 7/9 [02:14<00:44, 22.31s/it]2025-02-23 04:42:28,667 [INFO] httpx: HTTP Request: POST https://api.openai.com/v1/chat/completions \"HTTP/1.1 200 OK\"\n",
      " 89%|████████▉ | 8/9 [02:38<00:22, 22.75s/it]2025-02-23 04:42:41,309 [INFO] httpx: HTTP Request: POST https://api.openai.com/v1/chat/completions \"HTTP/1.1 200 OK\"\n",
      "100%|██████████| 9/9 [02:51<00:00, 19.02s/it]\n"
     ]
    }
   ],
   "source": [
    "tex_file_paths = find_files_by_ext(tex_dir, \"tex\")\n",
    "\n",
    "for file_path in tex_file_paths:\n",
    "    logging.info(file_path)\n",
    "    file_path = Path(file_path)\n",
    "    tex_content = file_path.read_text('utf-8')\n",
    "    tex_content = remove_comments(tex_content)\n",
    "    tex_content = reduce_newlines(tex_content)\n",
    "    if is_only_commands(tex_content):\n",
    "        continue\n",
    "    else:\n",
    "        # テキスト分割\n",
    "        tex_chunks = split_tex_to_chunks(content=tex_content, token_counter=translator.count_tokens)\n",
    "        # 翻訳\n",
    "        translated_chunks=[]\n",
    "        for tex_chunk in tqdm(tex_chunks, desc=\"翻訳中...\"):\n",
    "            if f\"% skip start\\n\" in tex_chunk:\n",
    "                translated_chunks.append(tex_chunk)\n",
    "                logger.info(\"翻訳スキップ\")\n",
    "            else:\n",
    "                translated_chunk = translator(tex_chunk)\n",
    "                translated_chunk = parse_code_blocks(translated_chunk)[0][\"code\"]\n",
    "                translated_chunks.append(translated_chunk)\n",
    "        translated_tex_contents = \"\".join(translated_chunks)\n",
    "        file_path.write_text(translated_tex_contents, encoding='utf-8')"
   ]
  },
  {
   "cell_type": "markdown",
   "metadata": {},
   "source": [
    "#### コンパイル"
   ]
  },
  {
   "cell_type": "code",
   "execution_count": 9,
   "metadata": {},
   "outputs": [
    {
     "name": "stderr",
     "output_type": "stream",
     "text": [
      "2025-02-23 04:42:47,736 [WARNING] arxiv_translator.tex_compiler: 試行 1 でコンパイルに失敗しました: Command '['latexmk', '-lualatex', '-interaction=nonstopmode', '/arxiv-translator/data/tmp/arxiv-2310.10083v2-translated/arxiv.tex']' returned non-zero exit status 12.\n",
      "2025-02-23 04:42:47,738 [INFO] arxiv_translator.tex_compiler: 再試行します...\n",
      "2025-02-23 04:42:56,336 [WARNING] arxiv_translator.tex_compiler: 試行 2 でコンパイルに失敗しました: Command '['latexmk', '-lualatex', '-interaction=nonstopmode', '/arxiv-translator/data/tmp/arxiv-2310.10083v2-translated/arxiv.tex']' returned non-zero exit status 12.\n",
      "2025-02-23 04:42:56,338 [INFO] arxiv_translator.tex_compiler: 再試行します...\n",
      "2025-02-23 04:42:58,535 [INFO] arxiv_translator.tex_compiler: コンパイル成功.\n"
     ]
    },
    {
     "data": {
      "text/plain": [
       "CompletedProcess(args=['latexmk', '-lualatex', '-interaction=nonstopmode', '/arxiv-translator/data/tmp/arxiv-2310.10083v2-translated/arxiv.tex'], returncode=0, stdout='Latexmk: All targets (arxiv.pdf) are up-to-date\\n', stderr='Rc files read:\\n  /etc/LatexMk\\n  ./latexmkrc\\nLatexmk: This is Latexmk, John Collins, 29 September 2020, version: 4.70b.\\n')"
      ]
     },
     "execution_count": 10,
     "metadata": {},
     "output_type": "execute_result"
    }
   ],
   "source": [
    "compile_tex(source_file_path=main_tex_path)"
   ]
  },
  {
   "cell_type": "markdown",
   "metadata": {},
   "source": [
    "### 3. 結果"
   ]
  },
  {
   "cell_type": "code",
   "execution_count": 10,
   "metadata": {},
   "outputs": [
    {
     "name": "stderr",
     "output_type": "stream",
     "text": [
      "2025-02-23 04:42:58,573 [INFO] arxiv_translator.file_utils: 成功, ファイルコピー from /arxiv-translator/data/tmp/arxiv-2310.10083v2-translated/arxiv.pdf to: /data/2310.10083v2_ja.pdf\n"
     ]
    }
   ],
   "source": [
    "compiled_pdf_path = find_files_by_ext(tex_dir, ext=\"pdf\", single=True)\n",
    "copy_item(src=compiled_pdf_path, dst=f\"/data/{ARXIV_ID}_ja.pdf\")"
   ]
  }
 ],
 "metadata": {
  "kernelspec": {
   "display_name": "Python 3 (ipykernel)",
   "language": "python",
   "name": "python3"
  }
 },
 "nbformat": 4,
 "nbformat_minor": 2
}
